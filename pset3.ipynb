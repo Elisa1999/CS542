{
  "cells": [
    {
      "cell_type": "markdown",
      "metadata": {
        "id": "view-in-github",
        "colab_type": "text"
      },
      "source": [
        "<a href=\"https://colab.research.google.com/github/Elisa1999/CS542/blob/main/pset3.ipynb\" target=\"_parent\"><img src=\"https://colab.research.google.com/assets/colab-badge.svg\" alt=\"Open In Colab\"/></a>"
      ]
    },
    {
      "cell_type": "markdown",
      "metadata": {
        "nbpresent": {
          "id": "1d234e3f-af8b-4757-83f3-241b04b7a511"
        },
        "id": "O8PYEClKLioj"
      },
      "source": [
        "# Problem Set 3: CNNs [75 pts]\n",
        "\n"
      ]
    },
    {
      "cell_type": "markdown",
      "metadata": {
        "nbpresent": {
          "id": "b07b9992-b592-4871-9f9a-3b0ae5fa8b5f"
        },
        "id": "lBLP1x7zLiok"
      },
      "source": [
        "**Note**: The following has been verified to work with TensorFlow 2.0\n",
        "\n",
        "\\* Adapted from official TensorFlow&trade; tour guide.\n",
        "\n",
        "TensorFlow is a powerful library for doing large-scale numerical computation. One of the tasks at which it excels is implementing and training deep neural networks. In this assignment you will learn the basic building blocks of a TensorFlow model while constructing a deep convolutional MNIST classifier.\n",
        "\n",
        "What you are expected to implement in this tutorial:\n",
        "\n",
        "* Create a softmax regression function that is a model for recognizing MNIST digits, based on looking at every pixel in the image\n",
        "\n",
        "* Use Tensorflow to train the model to recognize digits by having it \"look\" at thousands of examples\n",
        "\n",
        "* Check the model's accuracy with MNIST test data\n",
        "\n",
        "* Build, train, and test a multilayer convolutional neural network to improve the results\n"
      ]
    },
    {
      "cell_type": "markdown",
      "metadata": {
        "id": "rLC1JIAmLiom"
      },
      "source": [
        "# Part 1: Coding [50 pts]"
      ]
    },
    {
      "cell_type": "markdown",
      "metadata": {
        "nbpresent": {
          "id": "5516f610-f00c-43c3-bf19-4cf7ab9c089f"
        },
        "id": "EnHQ7FzzLiom"
      },
      "source": [
        "## Data\n",
        "\n",
        "After importing tensorflow, we can download the MNIST dataset with the built-in TensorFlow/Keras method."
      ]
    },
    {
      "cell_type": "code",
      "execution_count": null,
      "metadata": {
        "nbpresent": {
          "id": "5e05f980-3d14-4367-b3d1-664249145b13"
        },
        "colab": {
          "base_uri": "https://localhost:8080/",
          "height": 37
        },
        "id": "9TEZyutwLiom",
        "outputId": "66a31c5f-c6dc-4347-9532-f3d3cd67a068"
      },
      "outputs": [
        {
          "output_type": "execute_result",
          "data": {
            "text/plain": [
              "'2.8.0'"
            ],
            "application/vnd.google.colaboratory.intrinsic+json": {
              "type": "string"
            }
          },
          "metadata": {},
          "execution_count": 10
        }
      ],
      "source": [
        "import os\n",
        "\n",
        "import tensorflow as tf\n",
        "import matplotlib.pyplot as plt\n",
        "import numpy as np\n",
        "\n",
        "os.environ['OMP_NUM_THREADS'] = '1'\n",
        "tf.__version__"
      ]
    },
    {
      "cell_type": "code",
      "execution_count": null,
      "metadata": {
        "nbpresent": {
          "id": "58317664-8da3-4283-b3e5-35721687e7ab"
        },
        "colab": {
          "base_uri": "https://localhost:8080/",
          "height": 589
        },
        "id": "RbsH60waLion",
        "outputId": "1c267613-288d-4e0e-d321-8587d053b7ec"
      },
      "outputs": [
        {
          "output_type": "display_data",
          "data": {
            "text/plain": [
              "<Figure size 720x720 with 25 Axes>"
            ],
            "image/png": "[encoded data removed]"
          },
          "metadata": {}
        }
      ],
      "source": [
        "(train_images, train_labels), (test_images, test_labels) = tf.keras.datasets.mnist.load_data()\n",
        "class_names = ['0', '1', '2', '3', '4',\n",
        "               '5', '6', '7', '8', '9']\n",
        "\n",
        "plt.figure(figsize=(10,10))\n",
        "for i in range(25):\n",
        "    plt.subplot(5,5,i+1)\n",
        "    plt.xticks([])\n",
        "    plt.yticks([])\n",
        "    plt.grid(False)\n",
        "    plt.imshow(train_images[i], cmap=plt.cm.binary)\n",
        "    plt.xlabel(class_names[train_labels[i]])\n",
        "plt.show()"
      ]
    },
    {
      "cell_type": "markdown",
      "metadata": {
        "nbpresent": {
          "id": "66140980-2aa4-457f-b1df-74c10c234cc2"
        },
        "id": "xj61kmpTLioo"
      },
      "source": [
        "## Build the CNN\n",
        "\n",
        "In this part we will build a customized TF2 Keras model. As input, a CNN takes tensors of shape (image_height, image_width, color_channels), ignoring the batch size. For MNIST, you will configure our CNN to process inputs of shape (28, 28, 1), which is the format of MNIST images. You can do this by passing the argument input_shape to our first layer.\n",
        "\n",
        "The overall architecture should be:\n",
        "\n",
        "```\n",
        "Model: \"customized_cnn\"\n",
        "_________________________________________________________________\n",
        "Layer (type)                 Output Shape              Param #   \n",
        "=================================================================\n",
        "conv2d_2 (Conv2D)            multiple                  320       \n",
        "_________________________________________________________________\n",
        "max_pooling2d_1 (MaxPooling2 multiple                  0         \n",
        "_________________________________________________________________\n",
        "conv2d_3 (Conv2D)            multiple                  18496     \n",
        "_________________________________________________________________\n",
        "flatten_1 (Flatten)          multiple                  0         \n",
        "_________________________________________________________________\n",
        "dense_2 (Dense)              multiple                  7930880   \n",
        "_________________________________________________________________\n",
        "dense_3 (Dense)              multiple                  10250     \n",
        "=================================================================\n",
        "Total params: 7,959,946\n",
        "Trainable params: 7,959,946\n",
        "Non-trainable params: 0\n",
        "_________________________________________________________________\n",
        "```\n",
        "### First Convolutional Layer [5 pts]\n",
        "\n",
        "We can now implement our first layer. The convolution will compute 32 features for each 3x3 patch. The first two dimensions are the patch size, the next is the number of input channels, and the last is the number of output channels.\n",
        "\n",
        "### Max Pooling Layer [5 pts]\n",
        "\n",
        "We stack max pooling layer after the first convolutional layer. These pooling layers will perform max pooling for each 2x2 patch.\n",
        "\n",
        "### Second Convolutional Layer [5 pts]\n",
        "\n",
        "In order to build a deep network, we stack several layers of this type. The second layer will have 64 features for each 3x3 patch.\n",
        "\n",
        "\n",
        "### Fully Connected Layers [10 pts]\n",
        "\n",
        "Now that the image size has been reduced to 11x11, we add a fully-connected layer with 128 neurons to allow processing on the entire image. We reshape the tensor from the second convolutional layer into a batch of vectors before the fully connected layer.\n",
        "\n",
        "The output layer should also be implemented via a fully connect layer.\n",
        "\n",
        "\n",
        "### Complete the Computation Graph [15 pts]\n",
        "\n",
        "Please complete the following function:\n",
        "\n",
        "```def call(self, inputs, training=None, mask=None):```\n",
        "\n",
        "To apply the layer, we first reshape the input to a 4d tensor, with the second and third dimensions corresponding to image width and height, and the final dimension corresponding to the number of color channels (which is 1).\n",
        "\n",
        "We then convolve the reshaped input with the first convolutional layer and then the max pooling followed by the second convolutional layer. These convolutional layers and the pooling layer will reduce the image size to 11x11.\n",
        "\n",
        "### Dropout Layer [5 pts]\n",
        "Please add dropouts during training before each fully connected layers, as this helps avoid overfitting during training.\n",
        "https://www.cs.toronto.edu/~hinton/absps/JMLRdropout.pdf"
      ]
    },
    {
      "cell_type": "code",
      "execution_count": null,
      "metadata": {
        "nbpresent": {
          "id": "71760e29-2b08-4259-93f1-ebe68cd74a6d"
        },
        "id": "7F5S-tITLiop"
      },
      "outputs": [],
      "source": [
        "class CustomizedCNN(tf.keras.models.Model):\n",
        "\n",
        "    def __init__(self, *args, **kwargs):\n",
        "        #raise NotImplementedError('Implement Using Keras Layers.')\n",
        "        super().__init__()\n",
        "        self.conv2d = tf.keras.layers.Conv2D(filters = 32, kernel_size = 3, activation = 'relu')\n",
        "        self.max_pooling2d = tf.keras.layers.MaxPool2D(pool_size = (2,2), strides = 2)\n",
        "        self.conv2d_1 = tf.keras.layers.Conv2D(filters = 64, kernel_size = 3, activation = 'relu')\n",
        "        self.flatten = tf.keras.layers.Flatten()\n",
        "        self.dense = tf.keras.layers.Dense(units = 128, activation = 'sigmoid')\n",
        "        self.dense_1 = tf.keras.layers.Dense(units = 10)\n",
        "        self.dropout = tf.keras.layers.Dropout(0.5)\n",
        "\n",
        "        \n",
        "\n",
        "    def call(self, inputs, training= None, mask=None):\n",
        "        #raise NotImplementedError('Build the CNN here.')\n",
        "        x = self.conv2d(inputs)\n",
        "        x = self.max_pooling2d(x) \n",
        "        x = self.conv2d_1(x)\n",
        "        x = self.flatten(x)\n",
        "        if training: \n",
        "           x = self.dropout(x, training=training)\n",
        "        x = self.dense(x)\n",
        "        if training: \n",
        "           x = self.dropout(x, training=training)\n",
        "        return self.dense_1(x)\n",
        "\n",
        "        \n",
        "\n",
        "\n",
        "        "
      ]
    },
    {
      "cell_type": "markdown",
      "metadata": {
        "nbpresent": {
          "id": "5d0bae73-5677-437f-af00-0a880b753345"
        },
        "id": "Hyq6q4jbLiop"
      },
      "source": [
        "## Build the Model"
      ]
    },
    {
      "cell_type": "code",
      "execution_count": null,
      "metadata": {
        "nbpresent": {
          "id": "5c52eeb2-1092-4d45-9e16-02219c82cb5e"
        },
        "id": "4x_6CAunLioq",
        "outputId": "8e264f0b-6748-4a7e-f077-eeaa47d57a7d",
        "colab": {
          "base_uri": "https://localhost:8080/"
        }
      },
      "outputs": [
        {
          "output_type": "stream",
          "name": "stdout",
          "text": [
            "Model: \"customized_cnn_2\"\n",
            "_________________________________________________________________\n",
            " Layer (type)                Output Shape              Param #   \n",
            "=================================================================\n",
            " conv2d_4 (Conv2D)           multiple                  320       \n",
            "                                                                 \n",
            " max_pooling2d_2 (MaxPooling  multiple                 0         \n",
            " 2D)                                                             \n",
            "                                                                 \n",
            " conv2d_5 (Conv2D)           multiple                  18496     \n",
            "                                                                 \n",
            " flatten_2 (Flatten)         multiple                  0         \n",
            "                                                                 \n",
            " dense_4 (Dense)             multiple                  991360    \n",
            "                                                                 \n",
            " dense_5 (Dense)             multiple                  1290      \n",
            "                                                                 \n",
            " dropout_2 (Dropout)         multiple                  0 (unused)\n",
            "                                                                 \n",
            "=================================================================\n",
            "Total params: 1,011,466\n",
            "Trainable params: 1,011,466\n",
            "Non-trainable params: 0\n",
            "_________________________________________________________________\n"
          ]
        }
      ],
      "source": [
        "model = CustomizedCNN()\n",
        "model.build(input_shape=(None, 28, 28,1))\n",
        "model.summary()"
      ]
    },
    {
      "cell_type": "markdown",
      "metadata": {
        "nbpresent": {
          "id": "f407d2b5-3b1b-4a88-881f-2d15b7a5c682"
        },
        "id": "AN4vh8AjLioq"
      },
      "source": [
        "We can specify a loss function just as easily. Loss indicates how bad the model's prediction was on a single example; we try to minimize that while training across all the examples. Here, our loss function is the cross-entropy between the target and the softmax activation function applied to the model's prediction. As in the beginners tutorial, we use the stable formulation:"
      ]
    },
    {
      "cell_type": "code",
      "execution_count": null,
      "metadata": {
        "nbpresent": {
          "id": "cdb90d24-6a23-4969-8138-f37e7050062d"
        },
        "id": "-xnj-Vl5Lioq"
      },
      "outputs": [],
      "source": [
        "model.compile(optimizer='adam',\n",
        "                loss=tf.keras.losses.SparseCategoricalCrossentropy(from_logits=True),\n",
        "                metrics=['accuracy'])"
      ]
    },
    {
      "cell_type": "markdown",
      "metadata": {
        "nbpresent": {
          "id": "1a6f61e8-2ae0-4730-ad8c-35c683033b04"
        },
        "id": "MPEDXQXCLioq"
      },
      "source": [
        "## Train and Evaluate the Model [5 pts]\n",
        "\n",
        "We will use a more sophisticated ADAM optimizer instead of a Gradient Descent Optimizer.\n",
        "\n",
        "Feel free to run this code. Be aware that it does 10 training epochs and may take a while (possibly up to half an hour), depending on your processor.\n",
        "\n",
        "The final test set accuracy after running this code should be approximately 98.7%  -- not state of the art, but respectable.\n",
        "\n",
        "We have learned how to quickly and easily build, train, and evaluate a fairly sophisticated deep learning model using TensorFlow."
      ]
    },
    {
      "cell_type": "code",
      "execution_count": null,
      "metadata": {
        "nbpresent": {
          "id": "6b64378c-07fa-4f71-ad27-85e1fcd95310"
        },
        "scrolled": false,
        "id": "9DoSyMlJLior",
        "outputId": "af2aae23-e32a-4c16-cd8a-716cb650eb07",
        "colab": {
          "base_uri": "https://localhost:8080/"
        }
      },
      "outputs": [
        {
          "output_type": "stream",
          "name": "stdout",
          "text": [
            "Epoch 1/10\n",
            "1500/1500 [==============================] - 63s 42ms/step - loss: 0.2540 - accuracy: 0.9286 - val_loss: 0.0742 - val_accuracy: 0.9788\n",
            "Epoch 2/10\n",
            "1500/1500 [==============================] - 62s 42ms/step - loss: 0.0978 - accuracy: 0.9715 - val_loss: 0.0500 - val_accuracy: 0.9857\n",
            "Epoch 3/10\n",
            "1500/1500 [==============================] - 62s 41ms/step - loss: 0.0730 - accuracy: 0.9785 - val_loss: 0.0457 - val_accuracy: 0.9866\n",
            "Epoch 4/10\n",
            "1500/1500 [==============================] - 62s 41ms/step - loss: 0.0617 - accuracy: 0.9809 - val_loss: 0.0397 - val_accuracy: 0.9871\n",
            "Epoch 5/10\n",
            "1500/1500 [==============================] - 63s 42ms/step - loss: 0.0515 - accuracy: 0.9847 - val_loss: 0.0360 - val_accuracy: 0.9893\n",
            "Epoch 6/10\n",
            "1500/1500 [==============================] - 62s 41ms/step - loss: 0.0451 - accuracy: 0.9864 - val_loss: 0.0347 - val_accuracy: 0.9901\n",
            "Epoch 7/10\n",
            "1500/1500 [==============================] - 62s 41ms/step - loss: 0.0433 - accuracy: 0.9866 - val_loss: 0.0332 - val_accuracy: 0.9906\n",
            "Epoch 8/10\n",
            "1500/1500 [==============================] - 61s 41ms/step - loss: 0.0378 - accuracy: 0.9884 - val_loss: 0.0343 - val_accuracy: 0.9903\n",
            "Epoch 9/10\n",
            "1500/1500 [==============================] - 62s 41ms/step - loss: 0.0347 - accuracy: 0.9893 - val_loss: 0.0336 - val_accuracy: 0.9903\n",
            "Epoch 10/10\n",
            "1500/1500 [==============================] - 62s 41ms/step - loss: 0.0344 - accuracy: 0.9896 - val_loss: 0.0315 - val_accuracy: 0.9913\n"
          ]
        }
      ],
      "source": [
        "#dealth with train\n",
        "x_train = np.expand_dims(train_images, axis=-1) # <--- add batch axis\n",
        "x_train = x_train.astype('float32') / 255\n",
        "y_train = tf.convert_to_tensor(train_labels)\n",
        "#deal with test\n",
        "x_test = np.expand_dims(test_images, axis=-1)\n",
        "x_test = x_test.astype('float32') / 255\n",
        "y_test = tf.convert_to_tensor(test_labels)\n",
        "\n",
        "\n",
        "#raise NotImplementedError('Update correct arguments for the fit method below.')\n",
        "history = model.fit(x = x_train, y = train_labels, validation_split = 0.2 , epochs = 10) # Use correct args here."
      ]
    },
    {
      "cell_type": "code",
      "execution_count": null,
      "metadata": {
        "nbpresent": {
          "id": "ff342098-784a-4e20-ac34-b74ca8ebe839"
        },
        "id": "sUQh5T-xLior",
        "outputId": "72a40d64-7443-42a6-ffdc-ff101a0a4734",
        "colab": {
          "base_uri": "https://localhost:8080/",
          "height": 300
        }
      },
      "outputs": [
        {
          "output_type": "execute_result",
          "data": {
            "text/plain": [
              "<matplotlib.legend.Legend at 0x7f587f205c50>"
            ]
          },
          "metadata": {},
          "execution_count": 16
        },
        {
          "output_type": "display_data",
          "data": {
            "text/plain": [
              "<Figure size 432x288 with 1 Axes>"
            ],
            "image/png": "[encoded data removed]"
          },
          "metadata": {
            "needs_background": "light"
          }
        }
      ],
      "source": [
        "plt.plot(history.history['accuracy'], label='accuracy')\n",
        "plt.plot(history.history['val_accuracy'], label = 'validation accuracy')\n",
        "plt.xlabel('Epoch')\n",
        "plt.ylabel('Accuracy')\n",
        "plt.ylim([0.9, 1])\n",
        "plt.legend(loc='lower right')"
      ]
    },
    {
      "cell_type": "code",
      "execution_count": null,
      "metadata": {
        "nbpresent": {
          "id": "d830cf58-fade-43e0-81c5-52632245d5d4"
        },
        "id": "G-T0wU4TLios",
        "outputId": "127915b6-8b60-4620-ccfd-87acc30a846e",
        "colab": {
          "base_uri": "https://localhost:8080/"
        }
      },
      "outputs": [
        {
          "output_type": "stream",
          "name": "stdout",
          "text": [
            "313/313 [==============================] - 4s 12ms/step - loss: 0.0254 - accuracy: 0.9915\n",
            "0.9915000200271606\n"
          ]
        }
      ],
      "source": [
        "test_loss, test_acc = model.evaluate(x_test, y_test)\n",
        "print(test_acc)"
      ]
    },
    {
      "cell_type": "markdown",
      "metadata": {
        "id": "vtKjQsuHLios"
      },
      "source": [
        "# Part 2: Written [22 pts]\n"
      ]
    },
    {
      "cell_type": "markdown",
      "metadata": {
        "id": "UBVvnfutLiot"
      },
      "source": [
        "**2.1 [4pts]** True/False, and why? Training a neural network from scratch takes significantly less time than using a pre-trained network and fine-tuning the final layers on the new task at hand. "
      ]
    },
    {
      "cell_type": "markdown",
      "metadata": {
        "id": "AetAwt3yLiot"
      },
      "source": [
        "False. Training a neural network from scratch will take significantly more than than using a pre-trained network. "
      ]
    },
    {
      "cell_type": "markdown",
      "metadata": {
        "id": "Ta40KqMmLiot"
      },
      "source": [
        "**2.2 [2pts]**  Which of the above approaches in 2.1 is referred to as *Transfer Learning*?"
      ]
    },
    {
      "cell_type": "markdown",
      "metadata": {
        "id": "uZQ9yupWLiot"
      },
      "source": [
        "Using a pre-trained network and fine-tuning the final layers on the new task"
      ]
    },
    {
      "cell_type": "markdown",
      "metadata": {
        "id": "1b6QPPtCLiou"
      },
      "source": [
        "**2.3 [4pts]**  List two ways to downsize feature maps in convolutional neural networks."
      ]
    },
    {
      "cell_type": "markdown",
      "metadata": {
        "id": "4xtofHWXLiou"
      },
      "source": [
        "The feature maps of a CNN capture the result of applying the filters to an input image. We can use pooling including max-pooling or mean pooling to downside feature maps. Or we can use stride > 1 in the convolution layer. \n"
      ]
    },
    {
      "cell_type": "markdown",
      "metadata": {
        "id": "YlykYdcRLiou"
      },
      "source": [
        "**2.4 [4pts]**  List four techniques that help a model avoid overfitting briefly explaining each."
      ]
    },
    {
      "cell_type": "markdown",
      "metadata": {
        "id": "TrEHr0lxLiou"
      },
      "source": [
        "We can add L2 or L1 regularization in the cost function to prevent overfitting. We also can augment our exisiting data set, for example, mirror-image all images or injecting noise to training data to make the model generlize better. What's more, we can set an early stop point to prevent overfitting. We can implement dropout which drops neurons having strong evidence to forces a network to learn alternative paths in order to maintain loss minimization. "
      ]
    },
    {
      "cell_type": "markdown",
      "metadata": {
        "id": "DCDU5PYNLiou"
      },
      "source": [
        "**2.5 [2pts]** Read the following on convolutions: https://towardsdatascience.com/intuitively-understanding-convolutions-for-deep-learning-1f6f42faee1. What is padding? And what does it help us achieve."
      ]
    },
    {
      "cell_type": "markdown",
      "metadata": {
        "id": "ztIHjUVLLiov"
      },
      "source": [
        "Padding is adding additional and 'fake' pixels to the edges of the input to fix the boundary effect. Usually the value is 0. The kernel when sliding can allow the original edge pixels to be at its center, while extending into the fake pixels beyond the edge, producing an output the same size as the input."
      ]
    },
    {
      "cell_type": "markdown",
      "metadata": {
        "id": "zCvbTqHdLiov"
      },
      "source": [
        "**2.6 [2pts]** How does back-propagation in RNNs differ from back-propagation in CNNs?"
      ]
    },
    {
      "cell_type": "markdown",
      "metadata": {
        "id": "2Jy8TN3CLiov"
      },
      "source": [
        "In RNN, we have back-propagation through time. We need to sum the partial derivative of every error. However, inback-propogation in CNN, we only mutiply the local gradient and upstream gradient. \n"
      ]
    },
    {
      "cell_type": "markdown",
      "metadata": {
        "id": "JI16GD4-Liov"
      },
      "source": [
        "**2.7 [4pts]** Explain two different ways to reduce the dimensionality of 1024D feature vectors extracted from a CNN for images."
      ]
    },
    {
      "cell_type": "markdown",
      "metadata": {
        "id": "SQuOgFoiLiov"
      },
      "source": [
        "1. We can implement K-means to compress the image. We cluster each {R, G, B} pixel value into k clusters and replace each vector by its cluster's index. \n",
        "2. We can also use auto-encoder to reduce the dimensionality of the feature vectors."
      ]
    },
    {
      "cell_type": "markdown",
      "metadata": {
        "id": "8jEvwC5hLiov"
      },
      "source": [
        "**2.8 [3pts]** What is an auto-encoder? What can it be used for?"
      ]
    },
    {
      "cell_type": "markdown",
      "metadata": {
        "id": "Q14UVctbLiow"
      },
      "source": [
        "Auto-encoder neural network is unsupervised learning algorithm that applies backpropogation, setting the target values to be equal to the inputs. We usually used auto-encoder for feature extraction with reduction of dimensionality."
      ]
    }
  ],
  "metadata": {
    "kernelspec": {
      "display_name": "Python 3 (ipykernel)",
      "language": "python",
      "name": "python3"
    },
    "language_info": {
      "codemirror_mode": {
        "name": "ipython",
        "version": 3
      },
      "file_extension": ".py",
      "mimetype": "text/x-python",
      "name": "python",
      "nbconvert_exporter": "python",
      "pygments_lexer": "ipython3",
      "version": "3.7.11"
    },
    "latex_envs": {
      "LaTeX_envs_menu_present": true,
      "autoclose": false,
      "autocomplete": true,
      "bibliofile": "biblio.bib",
      "cite_by": "apalike",
      "current_citInitial": 1,
      "eqLabelWithNumbers": true,
      "eqNumInitial": 1,
      "hotkeys": {
        "equation": "Ctrl-E",
        "itemize": "Ctrl-I"
      },
      "labels_anchors": false,
      "latex_user_defs": false,
      "report_style_numbering": false,
      "user_envs_cfg": false
    },
    "toc": {
      "base_numbering": 1,
      "nav_menu": {},
      "number_sections": true,
      "sideBar": true,
      "skip_h1_title": false,
      "title_cell": "Table of Contents",
      "title_sidebar": "Contents",
      "toc_cell": false,
      "toc_position": {},
      "toc_section_display": true,
      "toc_window_display": false
    },
    "varInspector": {
      "cols": {
        "lenName": 16,
        "lenType": 16,
        "lenVar": 40
      },
      "kernels_config": {
        "python": {
          "delete_cmd_postfix": "",
          "delete_cmd_prefix": "del ",
          "library": "var_list.py",
          "varRefreshCmd": "print(var_dic_list())"
        },
        "r": {
          "delete_cmd_postfix": ") ",
          "delete_cmd_prefix": "rm(",
          "library": "var_list.r",
          "varRefreshCmd": "cat(var_dic_list()) "
        }
      },
      "types_to_exclude": [
        "module",
        "function",
        "builtin_function_or_method",
        "instance",
        "_Feature"
      ],
      "window_display": false
    },
    "colab": {
      "name": "pset3.ipynb",
      "provenance": [],
      "collapsed_sections": [],
      "include_colab_link": true
    }
  },
  "nbformat": 4,
  "nbformat_minor": 0
}